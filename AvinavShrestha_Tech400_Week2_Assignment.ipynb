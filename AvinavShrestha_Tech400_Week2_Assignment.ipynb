{
  "nbformat": 4,
  "nbformat_minor": 0,
  "metadata": {
    "colab": {
      "provenance": [],
      "authorship_tag": "ABX9TyMprgU1Ts6ikkq+NMsfqUXL",
      "include_colab_link": true
    },
    "kernelspec": {
      "name": "python3",
      "display_name": "Python 3"
    },
    "language_info": {
      "name": "python"
    }
  },
  "cells": [
    {
      "cell_type": "markdown",
      "metadata": {
        "id": "view-in-github",
        "colab_type": "text"
      },
      "source": [
        "<a href=\"https://colab.research.google.com/github/Avinavshrestha/Avinav_Tech400/blob/main/AvinavShrestha_Tech400_Week2_Assignment.ipynb\" target=\"_parent\"><img src=\"https://colab.research.google.com/assets/colab-badge.svg\" alt=\"Open In Colab\"/></a>"
      ]
    },
    {
      "cell_type": "code",
      "execution_count": null,
      "metadata": {
        "colab": {
          "base_uri": "https://localhost:8080/"
        },
        "id": "rBH71CO-thvz",
        "outputId": "510372bb-2c89-4e50-ed75-d3bfa5a8577a"
      },
      "outputs": [
        {
          "output_type": "stream",
          "name": "stderr",
          "text": [
            "[nltk_data] Downloading package stopwords to /root/nltk_data...\n",
            "[nltk_data]   Unzipping corpora/stopwords.zip.\n",
            "[nltk_data] Downloading package punkt to /root/nltk_data...\n",
            "[nltk_data]   Unzipping tokenizers/punkt.zip.\n",
            "[nltk_data] Downloading package wordnet to /root/nltk_data...\n"
          ]
        }
      ],
      "source": [
        "import nltk\n",
        "nltk . download ('stopwords')\n",
        "nltk . download ('punkt')\n",
        "nltk . download ('wordnet')\n",
        "import os\n",
        "import string\n",
        "import logging\n",
        "import re # Import regular expressions library\n",
        "from collections import defaultdict , Counter\n",
        "from nltk . corpus import stopwords\n",
        "from nltk . tokenize import word_tokenize\n",
        "from nltk . stem import WordNetLemmatizer\n",
        "# Initialize the stop words and lemmatizer\n",
        "STOPWORDS = set( stopwords . words ('english') )\n",
        "LEMMATIZER = WordNetLemmatizer ()"
      ]
    },
    {
      "cell_type": "code",
      "source": [],
      "metadata": {
        "id": "FZ4rOnJBBiPH"
      },
      "execution_count": null,
      "outputs": []
    },
    {
      "cell_type": "code",
      "source": [
        "# Load documents from a directory\n",
        "def load_documents(directory):\n",
        "    documents = {}\n",
        "    for doc_id, filename in enumerate(os.listdir(directory), start=1):\n",
        "        with open(os.path.join(directory, filename), 'r', encoding='utf-8') as file:\n",
        "            documents[doc_id] = file.read()\n",
        "    return documents\n",
        "\n",
        "def preprocess(text):\n",
        "    # Remove punctuation and convert to lowercase\n",
        "    text = re.sub(r'[^\\w\\s]', '', text.lower())\n",
        "\n",
        "    # Tokenize text\n",
        "    tokens = word_tokenize(text)\n",
        "\n",
        "    # Remove stopwords and apply lemmatization\n",
        "    tokens = [LEMMATIZER.lemmatize(token) for token in tokens if token not in STOPWORDS]\n",
        "\n",
        "    return tokens\n",
        "\n",
        "# Create vocabulary and inverted index\n",
        "for doc_id, content in documents.items():\n",
        "    tokens = preprocess(content)\n",
        "    vocab.update(tokens)\n",
        "    for token in tokens:\n",
        "        inverted_index[token].add(doc_id)\n",
        "\n",
        "def boolean_query(query):\n",
        "    terms = preprocess(query)\n",
        "\n",
        "    # Check if the query contains specific operators like AND, OR, NOT\n",
        "    if 'and' in query.lower().split():\n",
        "        if len(terms) >= 2:\n",
        "            term1, term2 = terms[0], terms[1]  # AND operation\n",
        "            print(f\"Performing AND between '{term1}' and '{term2}'\")\n",
        "            result = boolean_and(term1, term2)\n",
        "        else:\n",
        "            return \"Invalid AND query\"\n",
        "    elif 'or' in query.lower().split():\n",
        "        if len(terms) >= 2:\n",
        "            term1, term2 = terms[0], terms[1]  # OR operation\n",
        "            print(f\"Performing OR between '{term1}' and '{term2}'\")\n",
        "            result = boolean_or(term1, term2)\n",
        "        else:\n",
        "            return \"Invalid OR query\"\n",
        "    elif 'not' in query.lower().split():\n",
        "        if len(terms) >= 1:\n",
        "            term = terms[0]  # NOT operation\n",
        "            print(f\"Performing NOT for '{term}'\")\n",
        "            result = boolean_not(term)\n",
        "        else:\n",
        "            return \"Invalid NOT query\"\n",
        "    else:\n",
        "        result = inverted_index.get(terms[0], set())  # Single-term query\n",
        "\n",
        "    if not result:\n",
        "        return \"No matching documents found\"\n",
        "    return sorted(list(result))\n",
        "\n",
        "query = \"Dataset not datasets \"\n",
        "result = boolean_query(query)\n",
        "print(f\"Results for query '{query}': Documents{result}\")\n",
        "\n"
      ],
      "metadata": {
        "colab": {
          "base_uri": "https://localhost:8080/"
        },
        "id": "w2hXKgPkHOHW",
        "outputId": "ecb52617-2ea7-4185-e740-9dce7fcb9d62"
      },
      "execution_count": 47,
      "outputs": [
        {
          "output_type": "stream",
          "name": "stdout",
          "text": [
            "Performing NOT for 'dataset'\n",
            "Results for query 'Dataset not datasets ': Documents[2, 3, 4]\n"
          ]
        }
      ]
    },
    {
      "cell_type": "code",
      "source": [
        "query = \"Information or Retrieval \"\n",
        "result = boolean_query(query)\n",
        "print(f\"Results for query '{query}': {result}\")\n",
        "\n",
        "query = \"Information not Retrieval \"\n",
        "result = boolean_query(query)\n",
        "print(f\"Results for query '{query}': {result}\")"
      ],
      "metadata": {
        "id": "w0aJxuoHmCXc"
      },
      "execution_count": null,
      "outputs": []
    }
  ]
}