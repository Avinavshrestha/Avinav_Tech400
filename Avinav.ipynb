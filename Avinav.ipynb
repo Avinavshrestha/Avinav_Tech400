{
  "nbformat": 4,
  "nbformat_minor": 0,
  "metadata": {
    "colab": {
      "provenance": [],
      "authorship_tag": "ABX9TyNI2nzBGvNkJWqwPN1pOtQU",
      "include_colab_link": true
    },
    "kernelspec": {
      "name": "python3",
      "display_name": "Python 3"
    },
    "language_info": {
      "name": "python"
    }
  },
  "cells": [
    {
      "cell_type": "markdown",
      "metadata": {
        "id": "view-in-github",
        "colab_type": "text"
      },
      "source": [
        "<a href=\"https://colab.research.google.com/github/Avinavshrestha/Avinav_Tech400/blob/main/Avinav.ipynb\" target=\"_parent\"><img src=\"https://colab.research.google.com/assets/colab-badge.svg\" alt=\"Open In Colab\"/></a>"
      ]
    },
    {
      "cell_type": "code",
      "source": [
        "import os\n",
        "import math\n",
        "import numpy as np\n",
        "\n",
        "# Define function to load documents\n",
        "def load_documents(directory):\n",
        "    documents = {}\n",
        "    for doc_id, filename in enumerate(os.listdir(directory), start=1):\n",
        "        with open(os.path.join(directory, filename), 'r', encoding='utf-8') as file:\n",
        "            documents[doc_id] = file.read()\n",
        "    return documents\n",
        "\n",
        "def tokenize(text):\n",
        "\n",
        "    return text.lower().split()\n",
        "docs = load_documents('/content/directory')\n",
        "\n",
        "# Tokenize all documents\n",
        "tokenized_docs = [tokenize(doc) for doc in docs.values()]\n",
        "\n",
        "# Example query\n",
        "queries = ['German made']\n",
        "\n",
        "# Tokenize the query\n",
        "tokenized_queries = [tokenize(query) for query in queries]\n",
        "\n",
        "print(tokenized_docs)\n",
        "print(tokenized_queries)\n",
        "\n",
        "\n",
        "queries = ['German made']\n",
        "tokenized_queries = [tokenize(query) for query in queries]\n",
        "\n",
        "print(\"Queries:\", tokenized_queries)\n",
        "\n",
        "# Creating a sorted vocabulary from all documents\n",
        "vocab = sorted(set([word for doc in tokenized_docs for word in doc]))\n",
        "\n",
        "\n",
        "def term_frequency(term, document):\n",
        "    return document.count(term) / len(document)\n",
        "\n",
        "def inverse_document_frequency(term, docs):\n",
        "    num_docs_containing_term = sum(1 for doc in docs if term in doc)\n",
        "    return math.log(len(docs) / (1 + num_docs_containing_term))\n",
        "\n",
        "def compute_tfidf_vector(document, vocab, docs):\n",
        "    tfidf_vector = []\n",
        "    for term in vocab:\n",
        "        tf = term_frequency(term, document)\n",
        "        idf = inverse_document_frequency(term, docs)\n",
        "        tfidf_vector.append(tf * idf)\n",
        "    return tfidf_vector\n",
        "\n",
        "# Compute TF-IDF vectors for all documents\n",
        "tfidf_docs = [compute_tfidf_vector(doc, vocab, tokenized_docs) for doc in tokenized_docs]\n",
        "\n",
        "# Compute TF-IDF vectors for all queries (if applicable)\n",
        "tfidf_queries = [compute_tfidf_vector(query, vocab, tokenized_docs) for query in tokenized_queries]\n",
        "\n",
        "def cosine_similarity(vec1, vec2):\n",
        "    dot_product = np.dot(vec1, vec2)\n",
        "    magnitude = np.linalg.norm(vec1) * np.linalg.norm(vec2)\n",
        "    if magnitude == 0:\n",
        "        return 0\n",
        "    return dot_product / magnitude\n",
        "\n",
        "# Compute cosine similarities between queries and documents\n",
        "similarities = []\n",
        "for query_vector in tfidf_queries:\n",
        "    doc_similarities = [cosine_similarity(query_vector, doc_vector) for doc_vector in tfidf_docs]\n",
        "    similarities.append(doc_similarities)\n",
        "\n",
        "def rank_documents(similarities):\n",
        "    ranked_docs = sorted(enumerate(similarities), key=lambda x: x[1], reverse=True)\n",
        "    return ranked_docs\n",
        "\n",
        "# Rank documents for each query\n",
        "for i, doc_sim in enumerate(similarities):\n",
        "    ranked_docs = rank_documents(doc_sim)\n",
        "    print(f\"Ranked documents for query {i + 1}:\", ranked_docs)\n",
        "\n",
        "\n",
        "def write_results_to_file(ranked_docs_list, filename=\"result_avinav.txt\"):\n",
        "    with open(filename, 'w') as file:\n",
        "        for query_index, ranked_docs in enumerate(ranked_docs_list, start=1):\n",
        "            file.write(f\"Query {query_index} Results:\\n\")\n",
        "            for doc_id, score in ranked_docs:\n",
        "                file.write(f\"Document {doc_id + 1} with score {score:.4f}\\n\")\n",
        "            file.write(\"\\n\")\n",
        "\n",
        "ranked_docs_list = [rank_documents(doc_sim) for doc_sim in similarities]\n",
        "write_results_to_file(ranked_docs_list)\n",
        "output_filename = \"result_Avinav.txt\"\n",
        "\n",
        "print(f\"Results saved to {output_filename}\")"
      ],
      "metadata": {
        "colab": {
          "base_uri": "https://localhost:8080/"
        },
        "id": "SN58oX2oqPYG",
        "outputId": "e6b75da6-17b5-49b2-de3d-29bab94f8328"
      },
      "execution_count": 4,
      "outputs": [
        {
          "output_type": "stream",
          "name": "stdout",
          "text": [
            "[['subaru', 'is', 'a', 'japanese', 'automobile', 'manufacturer', 'known', 'for', 'its', 'distinctive', 'use', 'of', 'boxer', 'engines', 'and', 'all-wheel-drive', '(awd)', 'technology', 'in', 'most', 'of', 'its', 'vehicles.', 'founded', 'in', '1953,', 'subaru', 'is', 'a', 'division', 'of', 'subaru', 'corporation,', 'formerly', 'known', 'as', 'fuji', 'heavy', 'industries.', 'the', 'brand', 'is', 'particularly', 'popular', 'for', 'its', 'reliable,', 'durable,', 'and', 'practical', 'cars', 'that', 'appeal', 'to', 'adventure', 'enthusiasts', 'and', 'outdoor-focused', 'consumers.', \"subaru's\", 'lineup', 'includes', 'sedans,', 'suvs,', 'and', 'crossovers,', 'with', 'notable', 'models', 'such', 'as', 'the', 'outback,', 'forester,', 'and', 'impreza.', 'the', \"company's\", 'commitment', 'to', 'safety', 'is', 'a', 'hallmark', 'of', 'its', 'brand,', 'with', 'many', 'of', 'its', 'vehicles', 'equipped', 'with', 'the', 'eyesight', 'driver', 'assist', 'technology,', 'which', 'includes', 'features', 'like', 'adaptive', 'cruise', 'control', 'and', 'automatic', 'pre-collision', 'braking.', 'the', 'brand', 'has', 'a', 'loyal', 'following,', 'particularly', 'in', 'markets', 'like', 'the', 'u.s.,', 'where', \"subaru's\", 'awd', 'capabilities', 'and', 'rugged', 'designs', 'are', 'well-suited', 'for', 'off-road', 'and', 'all-weather', 'conditions.', 'subaru', 'is', 'also', 'committed', 'to', 'sustainability,', 'with', 'a', 'strong', 'emphasis', 'on', 'environmentally', 'friendly', 'manufacturing', 'processes', 'and', 'the', 'production', 'of', 'fuel-efficient', 'vehicles.', 'subaru', 'combines', 'practical', 'engineering,', 'reliability,', 'and', 'safety,', 'making', 'it', 'a', 'popular', 'choice', 'for', 'those', 'who', 'value', 'adventure', 'and', 'everyday', 'usability.'], ['porsche,', 'a', 'german', 'automobile', 'manufacturer', 'founded', 'in', '1931', 'by', 'ferdinand', 'porsche,', 'is', 'renowned', 'for', 'its', 'high-performance', 'sports', 'cars,', 'suvs,', 'and', 'sedans.', 'headquartered', 'in', 'stuttgart,', 'germany,', 'porsche', 'is', 'a', 'subsidiary', 'of', 'volkswagen', 'ag', 'and', 'has', 'built', 'a', 'legacy', 'on', 'precision', 'engineering', 'and', 'innovation.', 'the', 'brand’s', 'iconic', 'models', 'include', 'the', '911,', 'cayenne,', 'and', 'panamera,', 'each', 'known', 'for', 'delivering', 'exceptional', 'speed,', 'handling,', 'and', 'luxury.', 'porsche’s', 'racing', 'heritage', 'and', 'technological', 'innovations', 'have', 'significantly', 'shaped', 'its', 'reputation.', 'the', '911,', 'for', 'example,', 'is', 'celebrated', 'for', 'its', 'rear-engine', 'layout', 'and', 'remarkable', 'agility.', 'porsche’s', 'engineering', 'excellence', 'extends', 'beyond', 'sports', 'cars,', 'with', 'advancements', 'in', 'electric', 'mobility,', 'evidenced', 'by', 'the', 'all-electric', 'taycan,', 'which', 'showcases', 'the', 'brand’s', 'shift', 'toward', 'sustainable', 'performance.', 'in', 'addition', 'to', 'high', 'performance,', 'porsche', 'emphasizes', 'luxury,', 'blending', 'sleek', 'design', 'with', 'top-tier', 'materials', 'and', 'advanced', 'technology', 'in', 'all', 'its', 'vehicles.', 'the', 'brand', 'also', 'offers', 'a', 'wide', 'range', 'of', 'customization', 'options,', 'allowing', 'customers', 'to', 'personalize', 'their', 'cars', 'extensively.', 'with', 'a', 'perfect', 'balance', 'of', 'speed,', 'luxury,', 'and', 'innovation,', 'porsche', 'continues', 'to', 'be', 'a', 'leader', 'in', 'the', 'luxury', 'and', 'performance', 'car', 'market.'], ['hyundai', 'hyundai', 'motor', 'company,', 'founded', 'in', '1967,', 'is', 'a', 'south', 'korean', 'multinational', 'automaker', 'that', 'has', 'become', 'a', 'global', 'leader', 'in', 'the', 'automotive', 'industry.', 'known', 'for', 'producing', 'affordable,', 'reliable,', 'and', 'stylish', 'vehicles,', 'hyundai', 'offers', 'a', 'wide', 'range', 'of', 'models,', 'including', 'sedans,', 'suvs,', 'electric', 'vehicles,', 'and', 'hybrids.', 'popular', 'models', 'include', 'the', 'hyundai', 'elantra,', 'sonata,', 'and', 'tucson.', 'hyundai', 'has', 'made', 'significant', 'strides', 'in', 'innovation', 'and', 'design,', 'with', 'a', 'focus', 'on', 'quality', 'and', 'advanced', 'technology.', 'the', 'brand’s', 'emphasis', 'on', 'fuel', 'efficiency', 'and', 'eco-friendly', 'vehicles', 'is', 'evident', 'in', 'its', 'hybrid', 'and', 'electric', 'models,', 'such', 'as', 'the', 'hyundai', 'ioniq', 'and', 'kona', 'electric.', 'additionally,', 'hyundai', 'has', 'invested', 'in', 'hydrogen', 'fuel', 'cell', 'technology', 'with', 'the', 'nexo,', 'contributing', 'to', 'the', 'future', 'of', 'sustainable', 'transportation.', 'hyundai', 'vehicles', 'are', 'known', 'for', 'offering', 'excellent', 'value,', 'combining', 'affordability', 'with', 'premium', 'features,', 'a', 'long', 'warranty,', 'and', 'modern', 'styling.', 'with', 'a', 'focus', 'on', 'design,', 'technology,', 'and', 'sustainability,', 'hyundai', 'has', 'solidified', 'its', 'reputation', 'as', 'a', 'forward-thinking', 'and', 'customer-focused', 'automotive', 'brand.'], ['kia', 'kia', 'corporation,', 'founded', 'in', '1944', 'in', 'south', 'korea,', 'has', 'grown', 'into', 'a', 'global', 'automotive', 'brand', 'known', 'for', 'producing', 'affordable,', 'reliable,', 'and', 'stylish', 'vehicles.', 'initially', 'focusing', 'on', 'bicycles', 'and', 'motorcycles,', 'kia', 'evolved', 'into', 'a', 'prominent', 'automobile', 'manufacturer,', 'offering', 'a', 'wide', 'range', 'of', 'cars,', 'suvs,', 'and', 'electric', 'vehicles.', 'models', 'such', 'as', 'the', 'kia', 'sportage,', 'sorento,', 'and', 'kia', 'soul', 'have', 'become', 'popular', 'worldwide', 'for', 'their', 'quality,', 'affordability,', 'and', 'modern', 'design.', 'kia', 'has', 'undergone', 'a', 'significant', 'transformation', 'in', 'recent', 'years,', 'focusing', 'on', 'design,', 'technology,', 'and', 'sustainability.', 'the', 'brand', 'is', 'recognized', 'for', 'its', 'bold', 'designs,', 'such', 'as', 'those', 'seen', 'in', 'the', 'kia', 'stinger', 'and', 'kia', 'telluride,', 'and', 'for', 'integrating', 'advanced', 'features', 'such', 'as', 'infotainment', 'systems,', 'driver', 'assistance', 'technologies,', 'and', 'hybrid', 'or', 'electric', 'options.', 'kia’s', 'commitment', 'to', 'quality', 'is', 'backed', 'by', 'its', 'industry-leading', 'warranty,', 'which', 'provides', 'peace', 'of', 'mind', 'to', 'its', 'customers.', 'with', 'a', 'focus', 'on', 'innovation,', 'design,', 'and', 'sustainability,', 'kia', 'continues', 'to', 'expand', 'its', 'global', 'presence,', 'offering', 'vehicles', 'that', 'appeal', 'to', 'a', 'wide', 'range', 'of', 'customers.'], ['bmw', '(bayerische', 'motoren', 'werke', 'ag)', 'is', 'a', 'renowned', 'german', 'automobile', 'manufacturer,', 'known', 'for', 'producing', 'luxury', 'vehicles', 'and', 'motorcycles.', 'founded', 'in', '1916,', 'bmw', 'initially', 'focused', 'on', 'aircraft', 'engines', 'before', 'transitioning', 'to', 'motorcycles', 'and', 'automobiles.', 'the', 'company', 'is', 'headquartered', 'in', 'munich,', 'germany,', 'and', 'operates', 'worldwide,', 'with', 'a', 'reputation', 'for', 'engineering', 'excellence', 'and', 'innovation.', 'bmw', 'is', 'distinguished', 'by', 'its', 'commitment', 'to', 'performance,', 'luxury,', 'and', 'cutting-edge', 'technology.', 'its', 'product', 'lineup', 'includes', 'sedans,', 'suvs,', 'electric', 'vehicles', '(evs),', 'and', 'high-performance', 'sports', 'cars,', 'such', 'as', 'the', 'm', 'series.', 'the', 'company', 'is', 'also', 'recognized', 'for', 'its', 'emphasis', 'on', 'driving', 'dynamics,', 'with', 'its', 'slogan,', '\"the', 'ultimate', 'driving', 'machine,\"', 'reflecting', 'its', 'focus', 'on', 'providing', 'an', 'engaging', 'driving', 'experience.', 'in', 'recent', 'years,', 'bmw', 'has', 'expanded', 'its', 'efforts', 'in', 'sustainability', 'and', 'electric', 'mobility,', 'with', 'the', 'launch', 'of', 'the', 'bmw', 'i', 'series,', 'featuring', 'electric', 'and', 'hybrid', 'models.', 'this', 'shift', 'aligns', 'with', 'global', 'trends', 'toward', 'eco-friendly', 'transportation', 'and', 'reduced', 'emissions.', 'bmw', 'continues', 'to', 'maintain', 'a', 'strong', 'brand', 'presence', 'through', 'its', 'innovative', 'designs,', 'advanced', 'technology,', 'and', 'a', 'legacy', 'of', 'producing', 'high-quality', 'vehicles', 'that', 'appeal', 'to', 'luxury', 'and', 'performance', 'enthusiasts', 'worldwide.'], ['ford', 'ford', 'motor', 'company,', 'founded', 'in', '1903', 'by', 'henry', 'ford,', 'is', 'an', 'american', 'automaker', 'and', 'one', 'of', 'the', 'most', 'storied', 'brands', 'in', 'the', 'automotive', 'industry.', 'known', 'for', 'revolutionizing', 'mass', 'production', 'with', 'the', 'assembly', 'line,', 'ford', 'made', 'cars', 'affordable', 'to', 'the', 'masses.', 'today,', 'ford', 'continues', 'to', 'produce', 'a', 'wide', 'range', 'of', 'vehicles,', 'including', 'sedans,', 'suvs,', 'trucks,', 'and', 'electric', 'vehicles.', 'popular', 'models', 'include', 'the', 'ford', 'f-150,', 'mustang,', 'and', 'explorer.', 'ford', 'is', 'especially', 'known', 'for', 'its', 'trucks,', 'with', 'the', 'f-series', 'being', 'one', 'of', 'the', 'best-selling', 'vehicles', 'in', 'the', 'u.s.', 'for', 'decades.', 'the', 'brand', 'also', 'has', 'a', 'strong', 'heritage', 'in', 'performance', 'vehicles,', 'particularly', 'with', 'the', 'mustang,', 'an', 'iconic', 'american', 'muscle', 'car.', 'in', 'recent', 'years,', 'ford', 'has', 'shifted', 'its', 'focus', 'towards', 'electric', 'mobility,', 'launching', 'the', 'all-electric', 'mustang', 'mach-e', 'and', 'the', 'f-150', 'lightning.', 'ford’s', 'commitment', 'to', 'innovation', 'extends', 'to', 'safety', 'and', 'driver-assistance', 'technologies,', 'with', 'the', 'ford', 'co-pilot360', 'suite', 'providing', 'advanced', 'features', 'such', 'as', 'adaptive', 'cruise', 'control', 'and', 'lane-keeping', 'assistance.', 'with', 'a', 'blend', 'of', 'heritage,', 'innovation,', 'and', 'a', 'commitment', 'to', 'sustainability,', 'ford', 'continues', 'to', 'be', 'a', 'major', 'player', 'in', 'the', 'global', 'automotive', 'industry.'], ['toyota', 'toyota', 'motor', 'corporation,', 'founded', 'in', '1937', 'by', 'kiichiro', 'toyoda,', 'is', 'a', 'japanese', 'multinational', 'automaker', 'renowned', 'for', 'producing', 'reliable,', 'fuel-efficient,', 'and', 'high-quality', 'vehicles.', 'as', 'one', 'of', 'the', 'largest', 'car', 'manufacturers', 'globally,', 'toyota', 'offers', 'a', 'broad', 'range', 'of', 'vehicles,', 'from', 'sedans', 'and', 'suvs', 'to', 'hybrids', 'and', 'trucks.', 'iconic', 'models', 'like', 'the', 'camry,', 'corolla,', 'and', 'prius', 'have', 'made', 'toyota', 'a', 'household', 'name', 'in', 'many', 'countries.', 'toyota', 'is', 'a', 'leader', 'in', 'hybrid', 'technology,', 'with', 'the', 'prius', 'being', 'the', 'world’s', 'first', 'mass-produced', 'hybrid', 'vehicle,', 'setting', 'the', 'standard', 'for', 'eco-friendly', 'cars.', 'the', 'company', 'also', 'focuses', 'on', 'safety', 'and', 'innovation,', 'incorporating', 'features', 'like', 'toyota', 'safety', 'sense,', 'a', 'suite', 'of', 'advanced', 'driver', 'assistance', 'systems,', 'into', 'many', 'of', 'its', 'vehicles.', 'known', 'for', 'its', 'commitment', 'to', 'quality', 'and', 'long-term', 'durability,', 'toyota', 'has', 'a', 'reputation', 'for', 'producing', 'vehicles', 'that', 'retain', 'value', 'over', 'time.', 'additionally,', 'toyota', 'is', 'at', 'the', 'forefront', 'of', 'the', 'automotive', \"industry's\", 'shift', 'toward', 'electric', 'mobility,', 'developing', 'hydrogen', 'fuel', 'cell', 'vehicles', 'like', 'the', 'mirai.', 'toyota’s', 'dedication', 'to', 'sustainability,', 'reliability,', 'and', 'innovation', 'has', 'secured', 'its', 'position', 'as', 'a', 'leading', 'global', 'automaker.'], ['mini', 'mini', 'is', 'a', 'british', 'automotive', 'brand', 'founded', 'in', '1959,', 'originally', 'as', 'a', 'subsidiary', 'of', 'the', 'british', 'motor', 'corporation', '(bmc).', 'it', 'became', 'widely', 'popular', 'for', 'its', 'compact,', 'fun-to-drive', 'cars,', 'particularly', 'the', 'iconic', 'mini', 'cooper,', 'which', 'remains', 'the', 'brand’s', 'hallmark.', 'bmw', 'acquired', 'mini', 'in', '1994,', 'transforming', 'it', 'into', 'a', 'modern', 'brand', 'while', 'maintaining', 'its', 'signature', 'compact', 'design', 'and', 'playful', 'driving', 'experience.', 'mini', 'vehicles', 'are', 'characterized', 'by', 'their', 'distinctive,', 'quirky', 'styling,', 'small', 'size,', 'and', 'agile', 'handling.', 'popular', 'models', 'include', 'the', 'mini', 'cooper', 'hatchback,', 'the', 'mini', 'countryman', 'suv,', 'and', 'the', 'mini', 'convertible.', 'despite', 'its', 'compact', 'size,', 'mini', 'offers', 'luxurious', 'interiors', 'and', 'advanced', 'technology,', 'with', 'a', 'strong', 'focus', 'on', 'customization', 'options,', 'allowing', 'owners', 'to', 'personalize', 'their', 'vehicles', 'to', 'their', 'tastes.', 'mini', 'has', 'also', 'embraced', 'sustainability', 'with', 'the', 'introduction', 'of', 'electric', 'models', 'like', 'the', 'mini', 'electric,', 'blending', 'eco-consciousness', 'with', 'the', 'brand’s', 'spirited', 'performance.', 'known', 'for', 'its', 'combination', 'of', 'fun,', 'style,', 'and', 'practicality,', 'mini', 'continues', 'to', 'be', 'a', 'beloved', 'brand,', 'especially', 'in', 'urban', 'settings', 'where', 'maneuverability', 'is', 'key.'], ['lexus', 'lexus,', 'the', 'luxury', 'vehicle', 'division', 'of', 'japanese', 'automaker', 'toyota,', 'was', 'established', 'in', '1989', 'to', 'compete', 'with', 'european', 'and', 'american', 'luxury', 'car', 'manufacturers.', 'known', 'for', 'its', 'refinement,', 'cutting-edge', 'technology,', 'and', 'exceptional', 'reliability,', 'lexus', 'offers', 'a', 'wide', 'range', 'of', 'vehicles,', 'from', 'sedans', 'and', 'coupes', 'to', 'suvs', 'and', 'hybrids.', 'lexus', 'places', 'a', 'strong', 'emphasis', 'on', 'luxury,', 'incorporating', 'high-quality', 'materials,', 'meticulous', 'craftsmanship,', 'and', 'state-of-the-art', 'features', 'into', 'its', 'vehicles.', 'popular', 'models', 'include', 'the', 'rx', 'suv,', 'es', 'sedan,', 'and', 'ls', 'flagship', 'sedan,', 'each', 'offering', 'a', 'smooth,', 'comfortable', 'ride', 'and', 'advanced', 'technology.', 'lexus', 'also', 'prioritizes', 'sustainability', 'with', 'its', 'range', 'of', 'hybrid', 'models,', 'making', 'it', 'a', 'leader', 'in', 'eco-friendly', 'luxury', 'vehicles.', 'in', 'addition', 'to', 'performance', 'and', 'luxury,', 'lexus', 'is', 'recognized', 'for', 'its', 'high', 'safety', 'standards,', 'frequently', 'earning', 'top', 'ratings', 'in', 'safety', 'evaluations.', 'its', 'commitment', 'to', 'customer', 'satisfaction', 'has', 'made', 'lexus', 'one', 'of', 'the', 'most', 'reliable', 'luxury', 'brands', 'on', 'the', 'market.', 'with', 'a', 'focus', 'on', 'innovation,', 'refinement,', 'and', 'sustainability,', 'lexus', 'continues', 'to', 'attract', 'luxury', 'car', 'buyers', 'globally.'], ['honda', 'honda', 'motor', 'co.,', 'ltd.,', 'founded', 'in', '1948', 'by', 'soichiro', 'honda', 'in', 'japan,', 'is', 'one', 'of', 'the', 'world’s', 'largest', 'automobile', 'manufacturers', 'and', 'a', 'leading', 'producer', 'of', 'motorcycles.', 'known', 'for', 'its', 'reliability,', 'fuel', 'efficiency,', 'and', 'affordability,', 'honda', 'produces', 'a', 'wide', 'range', 'of', 'vehicles,', 'including', 'sedans,', 'suvs,', 'motorcycles,', 'and', 'hybrid-electric', 'models.', 'key', 'models', 'include', 'the', 'civic,', 'accord,', 'and', 'cr-v,', 'which', 'have', 'earned', 'widespread', 'popularity', 'for', 'their', 'quality', 'and', 'practicality.', \"honda's\", 'innovation', 'extends', 'into', 'advanced', 'safety', 'technologies,', 'such', 'as', 'the', 'honda', 'sensing', 'suite,', 'which', 'offers', 'features', 'like', 'lane-keeping', 'assistance,', 'adaptive', 'cruise', 'control,', 'and', 'collision', 'mitigation', 'braking.', 'the', 'company', 'is', 'also', 'a', 'leader', 'in', 'producing', 'environmentally', 'friendly', 'vehicles,', 'with', 'a', 'strong', 'focus', 'on', 'hybrid', 'and', 'electric', 'vehicles,', 'such', 'as', 'the', 'honda', 'clarity', 'and', 'the', 'honda', 'insight.', 'honda', 'has', 'a', 'strong', 'motorsports', 'presence,', 'especially', 'in', 'formula', '1,', 'where', 'its', 'engines', 'have', 'powered', 'winning', 'teams.', 'with', 'a', 'commitment', 'to', 'quality', 'engineering,', 'innovation,', 'and', 'sustainability,', 'honda', 'remains', 'one', 'of', 'the', 'most', 'trusted', 'and', 'respected', 'brands', 'globally.']]\n",
            "[['german', 'made']]\n",
            "Queries: [['german', 'made']]\n",
            "Ranked documents for query 1: [(4, 0.06810602579617409), (1, 0.06779831398735339), (8, 0.01981838728939611), (6, 0.019128253299032165), (2, 0.018885173280553752), (5, 0.017833951816625275), (0, 0.0), (3, 0.0), (7, 0.0), (9, 0.0)]\n",
            "Results saved to result_Avinav.txt\n"
          ]
        }
      ]
    },
    {
      "cell_type": "code",
      "source": [],
      "metadata": {
        "id": "RSYtQQSsqR5b"
      },
      "execution_count": null,
      "outputs": []
    }
  ]
}